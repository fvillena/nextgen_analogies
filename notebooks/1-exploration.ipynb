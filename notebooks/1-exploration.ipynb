{
 "cells": [
  {
   "cell_type": "code",
   "execution_count": 111,
   "metadata": {},
   "outputs": [],
   "source": [
    "from transformers import pipeline\n",
    "import pandas as pd\n",
    "#import defaultdict module  \n",
    "from collections import defaultdict\n",
    "import string"
   ]
  },
  {
   "cell_type": "code",
   "execution_count": 94,
   "metadata": {},
   "outputs": [],
   "source": [
    "def preprocess(sentence):\n",
    "    return sentence.strip().lower()"
   ]
  },
  {
   "cell_type": "code",
   "execution_count": 112,
   "metadata": {},
   "outputs": [],
   "source": [
    "def is_word(word):\n",
    "    return not all(c.isdigit() or c in string.punctuation for c in word)"
   ]
  },
  {
   "cell_type": "code",
   "execution_count": 95,
   "metadata": {},
   "outputs": [],
   "source": [
    "relations = pd.read_csv(\"../data/raw/_SELECT_CUI1_AUI1_c1_STR_REL_RELA_CUI2_AUI2_c2_STR_FROM_umls_MRR_202307141231.csv\").applymap(preprocess)"
   ]
  },
  {
   "cell_type": "code",
   "execution_count": 96,
   "metadata": {},
   "outputs": [],
   "source": [
    "analogies = defaultdict(list)\n",
    "# iterate for every group in a groupby object\n",
    "for name, group in relations.groupby(\"RELA\"):\n",
    "    #shuffle group dataframe\n",
    "    group = group.sample(frac=1)\n",
    "    #iterate every two rows over group dataframe   \n",
    "    for i in range(0, len(group), 2):\n",
    "        #get the first row\n",
    "        row1 = group.iloc[i]\n",
    "        row2 = group[group[\"STR.1\"] != row1[\"STR.1\"]].sample(1).iloc[0]\n",
    "        question = \"{} es a {} como {} es a\".format(row1[\"STR\"], row1[\"STR.1\"], row2[\"STR\"])\n",
    "        answer = row2[\"STR.1\"]\n",
    "        analogies[name].append({\"question\": question, \"answer\": answer})"
   ]
  },
  {
   "cell_type": "code",
   "execution_count": 64,
   "metadata": {},
   "outputs": [],
   "source": [
    "pipe = pipeline(\"fill-mask\", model=\"PlanTL-GOB-ES/roberta-base-biomedical-clinical-es\", device=0)"
   ]
  },
  {
   "cell_type": "code",
   "execution_count": 122,
   "metadata": {},
   "outputs": [
    {
     "name": "stdout",
     "output_type": "stream",
     "text": [
      "associated_finding_of\n",
      "causative_agent_of\n",
      "cause_of\n",
      "direct_device_of\n",
      "finding_method_of\n",
      "focus_of\n",
      "has_modification\n",
      "has_occurrence\n"
     ]
    },
    {
     "ename": "TypeError",
     "evalue": "unsupported operand type(s) for +: 'int' and 'list'",
     "output_type": "error",
     "traceback": [
      "\u001b[0;31m---------------------------------------------------------------------------\u001b[0m",
      "\u001b[0;31mTypeError\u001b[0m                                 Traceback (most recent call last)",
      "Cell \u001b[0;32mIn[122], line 13\u001b[0m\n\u001b[1;32m     11\u001b[0m             i \u001b[39m+\u001b[39m\u001b[39m=\u001b[39m \u001b[39m1\u001b[39m\n\u001b[1;32m     12\u001b[0m         results[rela]\u001b[39m.\u001b[39mappend(predicted_words)\n\u001b[0;32m---> 13\u001b[0m accuracies \u001b[39m=\u001b[39m {rela: \u001b[39msum\u001b[39m(results[rela]) \u001b[39m/\u001b[39m \u001b[39mlen\u001b[39m(results[rela]) \u001b[39mfor\u001b[39;00m rela \u001b[39min\u001b[39;00m results}\n",
      "Cell \u001b[0;32mIn[122], line 13\u001b[0m, in \u001b[0;36m<dictcomp>\u001b[0;34m(.0)\u001b[0m\n\u001b[1;32m     11\u001b[0m             i \u001b[39m+\u001b[39m\u001b[39m=\u001b[39m \u001b[39m1\u001b[39m\n\u001b[1;32m     12\u001b[0m         results[rela]\u001b[39m.\u001b[39mappend(predicted_words)\n\u001b[0;32m---> 13\u001b[0m accuracies \u001b[39m=\u001b[39m {rela: \u001b[39msum\u001b[39;49m(results[rela]) \u001b[39m/\u001b[39m \u001b[39mlen\u001b[39m(results[rela]) \u001b[39mfor\u001b[39;00m rela \u001b[39min\u001b[39;00m results}\n",
      "\u001b[0;31mTypeError\u001b[0m: unsupported operand type(s) for +: 'int' and 'list'"
     ]
    }
   ],
   "source": [
    "K = 20\n",
    "results = defaultdict(list)\n",
    "for rela, current_analogies in analogies.items():\n",
    "    print(rela)\n",
    "    for analogy in current_analogies:\n",
    "        i = 2\n",
    "        predicted_words = []\n",
    "        while len(predicted_words) < K:\n",
    "            predictions = pipe(f\"{analogy['question']} <mask>.\", top_k=i*K)\n",
    "            predicted_words = [preprocess(prediction[\"token_str\"]) for prediction in predictions if is_word(prediction[\"token_str\"])][:K]\n",
    "            i += 1\n",
    "        results[rela].append(predicted_words)"
   ]
  },
  {
   "cell_type": "code",
   "execution_count": 147,
   "metadata": {},
   "outputs": [],
   "source": [
    "accuracies = defaultdict(list)"
   ]
  },
  {
   "cell_type": "code",
   "execution_count": 148,
   "metadata": {},
   "outputs": [],
   "source": [
    "def accuracy_at_k(true, predicted, k):\n",
    "    result = []\n",
    "    for i in range(len(predicted)):\n",
    "        if true[i] in predicted[i][:k]:\n",
    "            result.append(1)\n",
    "        else:\n",
    "            result.append(0)\n",
    "    return sum(result)/len(result)"
   ]
  },
  {
   "cell_type": "code",
   "execution_count": 149,
   "metadata": {},
   "outputs": [],
   "source": [
    "for analogy, result in zip(analogies.items(), results.items()):\n",
    "    true = [x[\"answer\"] for x in analogy[1]]\n",
    "    predicted = result[1]\n",
    "    for k in range(1, K+1):\n",
    "        accuracies[analogy[0]].append(accuracy_at_k(true, predicted, k))"
   ]
  },
  {
   "cell_type": "code",
   "execution_count": 150,
   "metadata": {},
   "outputs": [
    {
     "data": {
      "text/plain": [
       "defaultdict(list,\n",
       "            {'associated_finding_of': [0.06341463414634146,\n",
       "              0.16097560975609757,\n",
       "              0.1902439024390244,\n",
       "              0.24878048780487805,\n",
       "              0.28292682926829266,\n",
       "              0.2926829268292683,\n",
       "              0.2975609756097561,\n",
       "              0.3121951219512195,\n",
       "              0.32195121951219513,\n",
       "              0.33170731707317075,\n",
       "              0.34146341463414637,\n",
       "              0.3463414634146341,\n",
       "              0.3463414634146341,\n",
       "              0.3463414634146341,\n",
       "              0.35121951219512193,\n",
       "              0.37073170731707317,\n",
       "              0.37073170731707317,\n",
       "              0.37073170731707317,\n",
       "              0.375609756097561,\n",
       "              0.375609756097561],\n",
       "             'causative_agent_of': [0.043054611375481534,\n",
       "              0.067754362111942,\n",
       "              0.08135055517788353,\n",
       "              0.08656242918649446,\n",
       "              0.09313392250169952,\n",
       "              0.09879900294584183,\n",
       "              0.10197144799456152,\n",
       "              0.10650351234987537,\n",
       "              0.10899614774529798,\n",
       "              0.11126217992295491,\n",
       "              0.11488783140720599,\n",
       "              0.1171538635848629,\n",
       "              0.12009970541581691,\n",
       "              0.12281894402900521,\n",
       "              0.1257647858599592,\n",
       "              0.12916383412644458,\n",
       "              0.13165646952186721,\n",
       "              0.1343757081350555,\n",
       "              0.135508724223884,\n",
       "              0.13641513709494674],\n",
       "             'cause_of': [0.0014684287812041115,\n",
       "              0.0014684287812041115,\n",
       "              0.004405286343612335,\n",
       "              0.005873715124816446,\n",
       "              0.00881057268722467,\n",
       "              0.013215859030837005,\n",
       "              0.01762114537444934,\n",
       "              0.024963289280469897,\n",
       "              0.02643171806167401,\n",
       "              0.027900146842878122,\n",
       "              0.03671071953010279,\n",
       "              0.042584434654919234,\n",
       "              0.049926578560939794,\n",
       "              0.0513950073421439,\n",
       "              0.05726872246696035,\n",
       "              0.0631424375917768,\n",
       "              0.06901615271659324,\n",
       "              0.07342143906020558,\n",
       "              0.07342143906020558,\n",
       "              0.0763582966226138],\n",
       "             'direct_device_of': [0.004048582995951417,\n",
       "              0.006072874493927126,\n",
       "              0.01417004048582996,\n",
       "              0.018218623481781375,\n",
       "              0.020242914979757085,\n",
       "              0.024291497975708502,\n",
       "              0.03643724696356275,\n",
       "              0.044534412955465584,\n",
       "              0.05263157894736842,\n",
       "              0.05668016194331984,\n",
       "              0.06275303643724696,\n",
       "              0.06882591093117409,\n",
       "              0.0708502024291498,\n",
       "              0.07489878542510121,\n",
       "              0.08502024291497975,\n",
       "              0.08704453441295547,\n",
       "              0.0931174089068826,\n",
       "              0.0931174089068826,\n",
       "              0.10323886639676114,\n",
       "              0.10931174089068826],\n",
       "             'finding_method_of': [0.08717948717948718,\n",
       "              0.3282051282051282,\n",
       "              0.5076923076923077,\n",
       "              0.6102564102564103,\n",
       "              0.6461538461538462,\n",
       "              0.6923076923076923,\n",
       "              0.7435897435897436,\n",
       "              0.7487179487179487,\n",
       "              0.7692307692307693,\n",
       "              0.7692307692307693,\n",
       "              0.7846153846153846,\n",
       "              0.7948717948717948,\n",
       "              0.8153846153846154,\n",
       "              0.8256410256410256,\n",
       "              0.8307692307692308,\n",
       "              0.8358974358974359,\n",
       "              0.8564102564102564,\n",
       "              0.8615384615384616,\n",
       "              0.8717948717948718,\n",
       "              0.882051282051282],\n",
       "             'focus_of': [0.0,\n",
       "              0.010380622837370242,\n",
       "              0.02422145328719723,\n",
       "              0.03806228373702422,\n",
       "              0.04152249134948097,\n",
       "              0.05536332179930796,\n",
       "              0.05536332179930796,\n",
       "              0.058823529411764705,\n",
       "              0.058823529411764705,\n",
       "              0.0657439446366782,\n",
       "              0.06920415224913495,\n",
       "              0.07612456747404844,\n",
       "              0.07612456747404844,\n",
       "              0.07612456747404844,\n",
       "              0.07612456747404844,\n",
       "              0.07612456747404844,\n",
       "              0.07612456747404844,\n",
       "              0.07958477508650519,\n",
       "              0.08304498269896193,\n",
       "              0.08650519031141868],\n",
       "             'has_modification': [0.034482758620689655,\n",
       "              0.047126436781609195,\n",
       "              0.05862068965517241,\n",
       "              0.059770114942528735,\n",
       "              0.07011494252873564,\n",
       "              0.0735632183908046,\n",
       "              0.07471264367816093,\n",
       "              0.07701149425287357,\n",
       "              0.07701149425287357,\n",
       "              0.07816091954022988,\n",
       "              0.08045977011494253,\n",
       "              0.08045977011494253,\n",
       "              0.08045977011494253,\n",
       "              0.08160919540229886,\n",
       "              0.08160919540229886,\n",
       "              0.08275862068965517,\n",
       "              0.0839080459770115,\n",
       "              0.0839080459770115,\n",
       "              0.0839080459770115,\n",
       "              0.0839080459770115],\n",
       "             'has_occurrence': [0.0,\n",
       "              0.001602097290999126,\n",
       "              0.005680163122633266,\n",
       "              0.010340809787357996,\n",
       "              0.01762307020099039,\n",
       "              0.028546460821438975,\n",
       "              0.03772210894261579,\n",
       "              0.04966501602097291,\n",
       "              0.061316632682784734,\n",
       "              0.07151179726187008,\n",
       "              0.08287212350713662,\n",
       "              0.0935042237110399,\n",
       "              0.10763180891348674,\n",
       "              0.11957471599184387,\n",
       "              0.12962423536265658,\n",
       "              0.13967375473346927,\n",
       "              0.1485581124381008,\n",
       "              0.1561316632682785,\n",
       "              0.16559860180600058,\n",
       "              0.1744829595106321]})"
      ]
     },
     "execution_count": 150,
     "metadata": {},
     "output_type": "execute_result"
    }
   ],
   "source": [
    "accuracies"
   ]
  },
  {
   "cell_type": "code",
   "execution_count": 123,
   "metadata": {},
   "outputs": [
    {
     "name": "stdout",
     "output_type": "stream",
     "text": [
      "associated_finding_of 0.28292682926829266\n",
      "causative_agent_of 0.09313392250169952\n",
      "cause_of 0.00881057268722467\n",
      "direct_device_of 0.020242914979757085\n",
      "finding_method_of 0.6461538461538462\n",
      "focus_of 0.04152249134948097\n",
      "has_modification 0.07011494252873564\n",
      "has_occurrence 0.01762307020099039\n"
     ]
    }
   ],
   "source": [
    "for group, accuracy in accuracies.items():\n",
    "    print(group, accuracy)"
   ]
  },
  {
   "cell_type": "code",
   "execution_count": null,
   "metadata": {},
   "outputs": [],
   "source": []
  }
 ],
 "metadata": {
  "kernelspec": {
   "display_name": "base",
   "language": "python",
   "name": "python3"
  },
  "language_info": {
   "codemirror_mode": {
    "name": "ipython",
    "version": 3
   },
   "file_extension": ".py",
   "mimetype": "text/x-python",
   "name": "python",
   "nbconvert_exporter": "python",
   "pygments_lexer": "ipython3",
   "version": "3.10.11"
  },
  "orig_nbformat": 4
 },
 "nbformat": 4,
 "nbformat_minor": 2
}
